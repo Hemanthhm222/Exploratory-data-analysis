{
 "cells": [
  {
   "cell_type": "markdown",
   "metadata": {},
   "source": [
    "### Importing libraries"
   ]
  },
  {
   "cell_type": "code",
   "execution_count": 1,
   "metadata": {},
   "outputs": [],
   "source": [
    "import pandas as pd\n",
    "import numpy as np\n",
    "import seaborn as sns\n",
    "import matplotlib.pyplot as plt\n",
    "%matplotlib inline\n",
    "from sklearn.preprocessing import LabelEncoder,MinMaxScaler\n",
    "import warnings\n",
    "warnings.filterwarnings('ignore')"
   ]
  },
  {
   "cell_type": "markdown",
   "metadata": {},
   "source": [
    "### Read and load dataset into pandas DataFrame"
   ]
  },
  {
   "cell_type": "code",
   "execution_count": 2,
   "metadata": {},
   "outputs": [
    {
     "name": "stdout",
     "output_type": "stream",
     "text": [
      "(4967, 17)\n"
     ]
    },
    {
     "data": {
      "text/html": [
       "<div>\n",
       "<style scoped>\n",
       "    .dataframe tbody tr th:only-of-type {\n",
       "        vertical-align: middle;\n",
       "    }\n",
       "\n",
       "    .dataframe tbody tr th {\n",
       "        vertical-align: top;\n",
       "    }\n",
       "\n",
       "    .dataframe thead th {\n",
       "        text-align: right;\n",
       "    }\n",
       "</style>\n",
       "<table border=\"1\" class=\"dataframe\">\n",
       "  <thead>\n",
       "    <tr style=\"text-align: right;\">\n",
       "      <th></th>\n",
       "      <th>Date</th>\n",
       "      <th>Time</th>\n",
       "      <th>Location</th>\n",
       "      <th>Operator</th>\n",
       "      <th>Flight #</th>\n",
       "      <th>Route</th>\n",
       "      <th>AC Type</th>\n",
       "      <th>Registration</th>\n",
       "      <th>cn/ln</th>\n",
       "      <th>Aboard</th>\n",
       "      <th>Aboard Passangers</th>\n",
       "      <th>Aboard Crew</th>\n",
       "      <th>Fatalities</th>\n",
       "      <th>Fatalities Passangers</th>\n",
       "      <th>Fatalities Crew</th>\n",
       "      <th>Ground</th>\n",
       "      <th>Summary</th>\n",
       "    </tr>\n",
       "  </thead>\n",
       "  <tbody>\n",
       "    <tr>\n",
       "      <th>0</th>\n",
       "      <td>09/17/1908</td>\n",
       "      <td>17:18</td>\n",
       "      <td>Fort Myer, Virginia</td>\n",
       "      <td>Military - U.S. Army</td>\n",
       "      <td>NaN</td>\n",
       "      <td>Demonstration</td>\n",
       "      <td>Wright Flyer III</td>\n",
       "      <td>NaN</td>\n",
       "      <td>1</td>\n",
       "      <td>2.0</td>\n",
       "      <td>1.0</td>\n",
       "      <td>1.0</td>\n",
       "      <td>1.0</td>\n",
       "      <td>1.0</td>\n",
       "      <td>0.0</td>\n",
       "      <td>0.0</td>\n",
       "      <td>During a demonstration flight, a U.S. Army fly...</td>\n",
       "    </tr>\n",
       "    <tr>\n",
       "      <th>1</th>\n",
       "      <td>09/07/1909</td>\n",
       "      <td>NaN</td>\n",
       "      <td>Juvisy-sur-Orge, France</td>\n",
       "      <td>NaN</td>\n",
       "      <td>NaN</td>\n",
       "      <td>Air show</td>\n",
       "      <td>Wright Byplane</td>\n",
       "      <td>SC1</td>\n",
       "      <td>NaN</td>\n",
       "      <td>1.0</td>\n",
       "      <td>0.0</td>\n",
       "      <td>1.0</td>\n",
       "      <td>1.0</td>\n",
       "      <td>0.0</td>\n",
       "      <td>0.0</td>\n",
       "      <td>0.0</td>\n",
       "      <td>Eugene Lefebvre was the first pilot to ever be...</td>\n",
       "    </tr>\n",
       "    <tr>\n",
       "      <th>2</th>\n",
       "      <td>07/12/1912</td>\n",
       "      <td>06:30</td>\n",
       "      <td>Atlantic City, New Jersey</td>\n",
       "      <td>Military - U.S. Navy</td>\n",
       "      <td>NaN</td>\n",
       "      <td>Test flight</td>\n",
       "      <td>Dirigible</td>\n",
       "      <td>NaN</td>\n",
       "      <td>NaN</td>\n",
       "      <td>5.0</td>\n",
       "      <td>0.0</td>\n",
       "      <td>5.0</td>\n",
       "      <td>5.0</td>\n",
       "      <td>0.0</td>\n",
       "      <td>5.0</td>\n",
       "      <td>0.0</td>\n",
       "      <td>First U.S. dirigible Akron exploded just offsh...</td>\n",
       "    </tr>\n",
       "    <tr>\n",
       "      <th>3</th>\n",
       "      <td>08/06/1913</td>\n",
       "      <td>NaN</td>\n",
       "      <td>Victoria, British Columbia, Canada</td>\n",
       "      <td>Private</td>\n",
       "      <td>NaN</td>\n",
       "      <td>NaN</td>\n",
       "      <td>Curtiss seaplane</td>\n",
       "      <td>NaN</td>\n",
       "      <td>NaN</td>\n",
       "      <td>1.0</td>\n",
       "      <td>0.0</td>\n",
       "      <td>1.0</td>\n",
       "      <td>1.0</td>\n",
       "      <td>0.0</td>\n",
       "      <td>1.0</td>\n",
       "      <td>0.0</td>\n",
       "      <td>The first fatal airplane accident in Canada oc...</td>\n",
       "    </tr>\n",
       "    <tr>\n",
       "      <th>4</th>\n",
       "      <td>09/09/1913</td>\n",
       "      <td>18:30</td>\n",
       "      <td>Over the North Sea</td>\n",
       "      <td>Military - German Navy</td>\n",
       "      <td>NaN</td>\n",
       "      <td>NaN</td>\n",
       "      <td>Zeppelin L-1 (airship)</td>\n",
       "      <td>NaN</td>\n",
       "      <td>NaN</td>\n",
       "      <td>20.0</td>\n",
       "      <td>NaN</td>\n",
       "      <td>NaN</td>\n",
       "      <td>14.0</td>\n",
       "      <td>NaN</td>\n",
       "      <td>NaN</td>\n",
       "      <td>0.0</td>\n",
       "      <td>The airship flew into a thunderstorm and encou...</td>\n",
       "    </tr>\n",
       "  </tbody>\n",
       "</table>\n",
       "</div>"
      ],
      "text/plain": [
       "         Date   Time                            Location  \\\n",
       "0  09/17/1908  17:18                 Fort Myer, Virginia   \n",
       "1  09/07/1909    NaN             Juvisy-sur-Orge, France   \n",
       "2  07/12/1912  06:30           Atlantic City, New Jersey   \n",
       "3  08/06/1913    NaN  Victoria, British Columbia, Canada   \n",
       "4  09/09/1913  18:30                  Over the North Sea   \n",
       "\n",
       "                 Operator Flight #          Route                 AC Type  \\\n",
       "0    Military - U.S. Army      NaN  Demonstration        Wright Flyer III   \n",
       "1                     NaN      NaN       Air show          Wright Byplane   \n",
       "2    Military - U.S. Navy      NaN    Test flight               Dirigible   \n",
       "3                 Private      NaN            NaN        Curtiss seaplane   \n",
       "4  Military - German Navy      NaN            NaN  Zeppelin L-1 (airship)   \n",
       "\n",
       "  Registration cn/ln  Aboard  Aboard Passangers  Aboard Crew  Fatalities  \\\n",
       "0          NaN     1     2.0                1.0          1.0         1.0   \n",
       "1          SC1   NaN     1.0                0.0          1.0         1.0   \n",
       "2          NaN   NaN     5.0                0.0          5.0         5.0   \n",
       "3          NaN   NaN     1.0                0.0          1.0         1.0   \n",
       "4          NaN   NaN    20.0                NaN          NaN        14.0   \n",
       "\n",
       "   Fatalities Passangers  Fatalities Crew  Ground  \\\n",
       "0                    1.0              0.0     0.0   \n",
       "1                    0.0              0.0     0.0   \n",
       "2                    0.0              5.0     0.0   \n",
       "3                    0.0              1.0     0.0   \n",
       "4                    NaN              NaN     0.0   \n",
       "\n",
       "                                             Summary  \n",
       "0  During a demonstration flight, a U.S. Army fly...  \n",
       "1  Eugene Lefebvre was the first pilot to ever be...  \n",
       "2  First U.S. dirigible Akron exploded just offsh...  \n",
       "3  The first fatal airplane accident in Canada oc...  \n",
       "4  The airship flew into a thunderstorm and encou...  "
      ]
     },
     "execution_count": 2,
     "metadata": {},
     "output_type": "execute_result"
    }
   ],
   "source": [
    "data = pd.read_csv('Airplane_Crashes_and_Fatalities_Since_1908_20190820105639.csv')\n",
    "print(data.shape)\n",
    "data.head()"
   ]
  },
  {
   "cell_type": "code",
   "execution_count": 3,
   "metadata": {},
   "outputs": [
    {
     "data": {
      "text/plain": [
       "4808"
      ]
     },
     "execution_count": 3,
     "metadata": {},
     "output_type": "execute_result"
    }
   ],
   "source": [
    "data['Summary'].value_counts().count()"
   ]
  },
  {
   "cell_type": "code",
   "execution_count": 4,
   "metadata": {},
   "outputs": [
    {
     "data": {
      "text/plain": [
       "Date                      0.000000\n",
       "Time                     30.400644\n",
       "Location                  0.080532\n",
       "Operator                  0.201329\n",
       "Flight #                 73.525267\n",
       "Route                    15.582847\n",
       "AC Type                   0.301993\n",
       "Registration              5.496275\n",
       "cn/ln                    13.448762\n",
       "Aboard                    0.362392\n",
       "Aboard Passangers         4.610429\n",
       "Aboard Crew               4.550030\n",
       "Fatalities                0.161063\n",
       "Fatalities Passangers     4.872156\n",
       "Fatalities Crew           4.852023\n",
       "Ground                    0.825448\n",
       "Summary                   1.288504\n",
       "dtype: float64"
      ]
     },
     "execution_count": 4,
     "metadata": {},
     "output_type": "execute_result"
    }
   ],
   "source": [
    "data.isnull().mean()*100"
   ]
  },
  {
   "cell_type": "markdown",
   "metadata": {},
   "source": [
    "#### working on date column"
   ]
  },
  {
   "cell_type": "code",
   "execution_count": 5,
   "metadata": {},
   "outputs": [],
   "source": [
    "data['Date'] = pd.to_datetime(data['Date'])\n",
    "data['Year'] = pd.DatetimeIndex(data['Date']).year\n",
    "data['Month'] = pd.DatetimeIndex(data['Date']).month\n",
    "data['Day'] = pd.DatetimeIndex(data['Date']).day"
   ]
  },
  {
   "cell_type": "code",
   "execution_count": 6,
   "metadata": {},
   "outputs": [
    {
     "data": {
      "text/html": [
       "<div>\n",
       "<style scoped>\n",
       "    .dataframe tbody tr th:only-of-type {\n",
       "        vertical-align: middle;\n",
       "    }\n",
       "\n",
       "    .dataframe tbody tr th {\n",
       "        vertical-align: top;\n",
       "    }\n",
       "\n",
       "    .dataframe thead th {\n",
       "        text-align: right;\n",
       "    }\n",
       "</style>\n",
       "<table border=\"1\" class=\"dataframe\">\n",
       "  <thead>\n",
       "    <tr style=\"text-align: right;\">\n",
       "      <th></th>\n",
       "      <th>Time</th>\n",
       "      <th>Location</th>\n",
       "      <th>Operator</th>\n",
       "      <th>Flight #</th>\n",
       "      <th>Route</th>\n",
       "      <th>AC Type</th>\n",
       "      <th>Registration</th>\n",
       "      <th>cn/ln</th>\n",
       "      <th>Aboard</th>\n",
       "      <th>Aboard Passangers</th>\n",
       "      <th>Aboard Crew</th>\n",
       "      <th>Fatalities</th>\n",
       "      <th>Fatalities Passangers</th>\n",
       "      <th>Fatalities Crew</th>\n",
       "      <th>Ground</th>\n",
       "      <th>Summary</th>\n",
       "      <th>Year</th>\n",
       "      <th>Month</th>\n",
       "      <th>Day</th>\n",
       "    </tr>\n",
       "  </thead>\n",
       "  <tbody>\n",
       "    <tr>\n",
       "      <th>0</th>\n",
       "      <td>17:18</td>\n",
       "      <td>Fort Myer, Virginia</td>\n",
       "      <td>Military - U.S. Army</td>\n",
       "      <td>NaN</td>\n",
       "      <td>Demonstration</td>\n",
       "      <td>Wright Flyer III</td>\n",
       "      <td>NaN</td>\n",
       "      <td>1</td>\n",
       "      <td>2.0</td>\n",
       "      <td>1.0</td>\n",
       "      <td>1.0</td>\n",
       "      <td>1.0</td>\n",
       "      <td>1.0</td>\n",
       "      <td>0.0</td>\n",
       "      <td>0.0</td>\n",
       "      <td>During a demonstration flight, a U.S. Army fly...</td>\n",
       "      <td>1908</td>\n",
       "      <td>9</td>\n",
       "      <td>17</td>\n",
       "    </tr>\n",
       "    <tr>\n",
       "      <th>1</th>\n",
       "      <td>NaN</td>\n",
       "      <td>Juvisy-sur-Orge, France</td>\n",
       "      <td>NaN</td>\n",
       "      <td>NaN</td>\n",
       "      <td>Air show</td>\n",
       "      <td>Wright Byplane</td>\n",
       "      <td>SC1</td>\n",
       "      <td>NaN</td>\n",
       "      <td>1.0</td>\n",
       "      <td>0.0</td>\n",
       "      <td>1.0</td>\n",
       "      <td>1.0</td>\n",
       "      <td>0.0</td>\n",
       "      <td>0.0</td>\n",
       "      <td>0.0</td>\n",
       "      <td>Eugene Lefebvre was the first pilot to ever be...</td>\n",
       "      <td>1909</td>\n",
       "      <td>9</td>\n",
       "      <td>7</td>\n",
       "    </tr>\n",
       "    <tr>\n",
       "      <th>2</th>\n",
       "      <td>06:30</td>\n",
       "      <td>Atlantic City, New Jersey</td>\n",
       "      <td>Military - U.S. Navy</td>\n",
       "      <td>NaN</td>\n",
       "      <td>Test flight</td>\n",
       "      <td>Dirigible</td>\n",
       "      <td>NaN</td>\n",
       "      <td>NaN</td>\n",
       "      <td>5.0</td>\n",
       "      <td>0.0</td>\n",
       "      <td>5.0</td>\n",
       "      <td>5.0</td>\n",
       "      <td>0.0</td>\n",
       "      <td>5.0</td>\n",
       "      <td>0.0</td>\n",
       "      <td>First U.S. dirigible Akron exploded just offsh...</td>\n",
       "      <td>1912</td>\n",
       "      <td>7</td>\n",
       "      <td>12</td>\n",
       "    </tr>\n",
       "    <tr>\n",
       "      <th>3</th>\n",
       "      <td>NaN</td>\n",
       "      <td>Victoria, British Columbia, Canada</td>\n",
       "      <td>Private</td>\n",
       "      <td>NaN</td>\n",
       "      <td>NaN</td>\n",
       "      <td>Curtiss seaplane</td>\n",
       "      <td>NaN</td>\n",
       "      <td>NaN</td>\n",
       "      <td>1.0</td>\n",
       "      <td>0.0</td>\n",
       "      <td>1.0</td>\n",
       "      <td>1.0</td>\n",
       "      <td>0.0</td>\n",
       "      <td>1.0</td>\n",
       "      <td>0.0</td>\n",
       "      <td>The first fatal airplane accident in Canada oc...</td>\n",
       "      <td>1913</td>\n",
       "      <td>8</td>\n",
       "      <td>6</td>\n",
       "    </tr>\n",
       "    <tr>\n",
       "      <th>4</th>\n",
       "      <td>18:30</td>\n",
       "      <td>Over the North Sea</td>\n",
       "      <td>Military - German Navy</td>\n",
       "      <td>NaN</td>\n",
       "      <td>NaN</td>\n",
       "      <td>Zeppelin L-1 (airship)</td>\n",
       "      <td>NaN</td>\n",
       "      <td>NaN</td>\n",
       "      <td>20.0</td>\n",
       "      <td>NaN</td>\n",
       "      <td>NaN</td>\n",
       "      <td>14.0</td>\n",
       "      <td>NaN</td>\n",
       "      <td>NaN</td>\n",
       "      <td>0.0</td>\n",
       "      <td>The airship flew into a thunderstorm and encou...</td>\n",
       "      <td>1913</td>\n",
       "      <td>9</td>\n",
       "      <td>9</td>\n",
       "    </tr>\n",
       "  </tbody>\n",
       "</table>\n",
       "</div>"
      ],
      "text/plain": [
       "    Time                            Location                Operator Flight #  \\\n",
       "0  17:18                 Fort Myer, Virginia    Military - U.S. Army      NaN   \n",
       "1    NaN             Juvisy-sur-Orge, France                     NaN      NaN   \n",
       "2  06:30           Atlantic City, New Jersey    Military - U.S. Navy      NaN   \n",
       "3    NaN  Victoria, British Columbia, Canada                 Private      NaN   \n",
       "4  18:30                  Over the North Sea  Military - German Navy      NaN   \n",
       "\n",
       "           Route                 AC Type Registration cn/ln  Aboard  \\\n",
       "0  Demonstration        Wright Flyer III          NaN     1     2.0   \n",
       "1       Air show          Wright Byplane          SC1   NaN     1.0   \n",
       "2    Test flight               Dirigible          NaN   NaN     5.0   \n",
       "3            NaN        Curtiss seaplane          NaN   NaN     1.0   \n",
       "4            NaN  Zeppelin L-1 (airship)          NaN   NaN    20.0   \n",
       "\n",
       "   Aboard Passangers  Aboard Crew  Fatalities  Fatalities Passangers  \\\n",
       "0                1.0          1.0         1.0                    1.0   \n",
       "1                0.0          1.0         1.0                    0.0   \n",
       "2                0.0          5.0         5.0                    0.0   \n",
       "3                0.0          1.0         1.0                    0.0   \n",
       "4                NaN          NaN        14.0                    NaN   \n",
       "\n",
       "   Fatalities Crew  Ground                                            Summary  \\\n",
       "0              0.0     0.0  During a demonstration flight, a U.S. Army fly...   \n",
       "1              0.0     0.0  Eugene Lefebvre was the first pilot to ever be...   \n",
       "2              5.0     0.0  First U.S. dirigible Akron exploded just offsh...   \n",
       "3              1.0     0.0  The first fatal airplane accident in Canada oc...   \n",
       "4              NaN     0.0  The airship flew into a thunderstorm and encou...   \n",
       "\n",
       "   Year  Month  Day  \n",
       "0  1908      9   17  \n",
       "1  1909      9    7  \n",
       "2  1912      7   12  \n",
       "3  1913      8    6  \n",
       "4  1913      9    9  "
      ]
     },
     "execution_count": 6,
     "metadata": {},
     "output_type": "execute_result"
    }
   ],
   "source": [
    "# Year month and day are separated and original column can be dropped\n",
    "data.drop('Date',inplace=True,axis=1)\n",
    "data.head()"
   ]
  },
  {
   "cell_type": "code",
   "execution_count": 7,
   "metadata": {},
   "outputs": [],
   "source": [
    "# Categorical columns\n",
    "cat_cols = data.select_dtypes(include='O').columns"
   ]
  },
  {
   "cell_type": "code",
   "execution_count": 8,
   "metadata": {},
   "outputs": [
    {
     "data": {
      "text/plain": [
       "Index(['Time', 'Location', 'Operator', 'Flight #', 'Route', 'AC Type',\n",
       "       'Registration', 'cn/ln', 'Summary'],\n",
       "      dtype='object')"
      ]
     },
     "execution_count": 8,
     "metadata": {},
     "output_type": "execute_result"
    }
   ],
   "source": [
    "cat_cols"
   ]
  },
  {
   "cell_type": "code",
   "execution_count": 9,
   "metadata": {},
   "outputs": [
    {
     "data": {
      "text/plain": [
       "Index(['Aboard', 'Aboard Passangers', 'Aboard Crew', 'Fatalities',\n",
       "       'Fatalities Passangers', 'Fatalities Crew', 'Ground', 'Year', 'Month',\n",
       "       'Day'],\n",
       "      dtype='object')"
      ]
     },
     "execution_count": 9,
     "metadata": {},
     "output_type": "execute_result"
    }
   ],
   "source": [
    "# Numerical columns\n",
    "num_cols = data.select_dtypes(exclude='O').columns\n",
    "num_cols"
   ]
  },
  {
   "cell_type": "markdown",
   "metadata": {},
   "source": [
    "### Categorical Columns Treatment"
   ]
  },
  {
   "cell_type": "code",
   "execution_count": 10,
   "metadata": {},
   "outputs": [
    {
     "data": {
      "text/plain": [
       "Time            30.400644\n",
       "Location         0.080532\n",
       "Operator         0.201329\n",
       "Flight #        73.525267\n",
       "Route           15.582847\n",
       "AC Type          0.301993\n",
       "Registration     5.496275\n",
       "cn/ln           13.448762\n",
       "Summary          1.288504\n",
       "dtype: float64"
      ]
     },
     "execution_count": 10,
     "metadata": {},
     "output_type": "execute_result"
    }
   ],
   "source": [
    "data[cat_cols].isnull().mean()*100"
   ]
  },
  {
   "cell_type": "code",
   "execution_count": 11,
   "metadata": {},
   "outputs": [
    {
     "data": {
      "text/plain": [
       "(4967, 18)"
      ]
     },
     "execution_count": 11,
     "metadata": {},
     "output_type": "execute_result"
    }
   ],
   "source": [
    "# Flight number has more null values so we can drop it\n",
    "data.drop('Flight #',inplace=True,axis=1)\n",
    "data.shape"
   ]
  },
  {
   "cell_type": "code",
   "execution_count": 16,
   "metadata": {},
   "outputs": [
    {
     "name": "stdout",
     "output_type": "stream",
     "text": [
      "1062\n",
      "(4967, 17)\n"
     ]
    }
   ],
   "source": [
    "print(data['Time'].value_counts().count())\n",
    "data.drop('Time',inplace=True,axis=1)\n",
    "print(data.shape)"
   ]
  },
  {
   "cell_type": "code",
   "execution_count": 19,
   "metadata": {},
   "outputs": [
    {
     "data": {
      "text/plain": [
       "Moscow, Russia          17\n",
       "Manila, Philippines     14\n",
       "New York, New York      14\n",
       "Sao Paulo, Brazil       13\n",
       "Cairo, Egypt            13\n",
       "                        ..\n",
       "Near Bocoio, Angola      1\n",
       "Medford, Oregon          1\n",
       "Dothan, Alabama          1\n",
       "Quebec, Canada           1\n",
       "Fort Dix, New Jersey     1\n",
       "Name: Location, Length: 4101, dtype: int64"
      ]
     },
     "execution_count": 19,
     "metadata": {},
     "output_type": "execute_result"
    }
   ],
   "source": [
    "data['Location'].value_counts()"
   ]
  },
  {
   "cell_type": "code",
   "execution_count": 20,
   "metadata": {},
   "outputs": [
    {
     "data": {
      "text/plain": [
       "Location                                    Operator                  Route                        AC Type                                   Registration   cn/ln        Aboard  Aboard Passangers  Aboard Crew  Fatalities  Fatalities Passangers  Fatalities Crew  Ground  Summary                                                                                                                                                                                                                                                                                                                                                                                               Year  Month  Day\n",
       "Zwingle, Iowa                               Private                   Cincinnati, OH - Pierre, SD  Mitsubishi MU-2B-60                       N86SD          765SA        8.0     6.0                2.0          8.0         6.0                    2.0              0.0     While cruising at FL240, a fracture of the propeller hub resulted in the separation of a propeller blade and damage to the engine, nacelle, wing and fuselage causing significant degradation to aircraft performance. The aircraft was incapable of maintaining altitude and crashed into a silo while attempting to make an emergency landing. South Dakota Governor George Mickelson, 52, killed.  1993  4      19     1\n",
       "Live Oak Springs, California                American Airlines         Dallas - Tucon - San Diego   Douglas DC-3-227B                         NC21799        2203         27.0    24.0               3.0          27.0        24.0                   3.0              0.0     While on approach to San Diego, the aircraft flew into Tierra Blanca Mountain at an altitude of 4,500 feet in fog, exploded and burned. The crew descended into instrument conditions to an altitude below that required to maintain clearance over Thing Mountain. The reason for the descent was not determined.                                                                                    1946  3      3      1\n",
       "London Heathrow,  Staines, Surrey, England  British European Airways  London - Brussels            Hawker Siddeley Trident 1C                G-ARPI         2109         118.0   112.0              6.0          118.0       112.0                  6.0              0.0     The plane crashed into a field shortly after taking off from Heathrow Airport. The airplane stalled after the wing's leading edge devices were retracted prematurely after takeoff.  Failure of the captain to maintain adequate speed after noise abatement procedures. Premature retraction of the slats. Incapacitation of the captain due to a possible arterial hemorrhage.                      1972  6      18     1\n",
       "Loma Linda, Colombia                        Arall                     San Jose - Villavicencio     Pilatus Britten-Norman BN-2B-27 Islander  HK-2890        2111         11.0    9.0                2.0          4.0         3.0                    1.0              0.0     Crashed while making an emergency landing following engine trouble.                                                                                                                                                                                                                                                                                                                                   1994  5      23     1\n",
       "Loja, Peru                                  TAME                      Loja - Zumba                 de Havilland Canada DHC-6 Twin Otter 300  FAE-446        446          14.0    12.0               2.0          14.0        12.0                   2.0              0.0     Crashed into high terrain.                                                                                                                                                                                                                                                                                                                                                                            1984  11     20     1\n",
       "                                                                                                                                                                                                                                                                                                                                                                                                                                                                                                                                                                                                                                                                                                      ..\n",
       "Near Tegal, Indonesia                       Royal Air Laos/PENAS      Singapore - Jakarta          Douglas DC-6                              XW-PEH         43126/132    9.0     6.0                3.0          6.0         5.0                    1.0              0.0     Due to a compass error the aircraft became lost and crashed during a forced landing due to fuel starvation.                                                                                                                                                                                                                                                                                           1972  2      1      1\n",
       "Near Tbilisi, Georgia                       Tajikistan Airlines       Batumi - Baku - Chimkent     Antonov AN-26                             RA-26035       SU035        41.0    36.0               5.0          41.0        36.0                   5.0              0.0     The crew reported they were diverting due to thunderstorms. Soon after the aircraft crashed after encountering severe turbulence.                                                                                                                                                                                                                                                                     1993  6      17     1\n",
       "Near Tashkent, Uzbekistan, USSR             Aeroflot                  Kabul - Tashkent             Ilyushin IL-18                            CCCP-91577     147001416    29.0    24.0               5.0          29.0        24.0                   5.0              0.0     Crashed into a mountain while en route. Crew error. The crew deviated from prescribe route. The captain decided to continue under VFR in IMC conditions and at the time of the accident, the aircraft was about 40 to 50 km off course to the right of the intended route.                                                                                                                            1959  12     13     1\n",
       "                                                                      Bukhara - Tashkent           Ilyushin IL-14                            CCCP-91554     \\t147001216  38.0    33.0               5.0          11.0        11.0                   0.0              0.0     The crew reported losing the right engine. The plane lost altitude as the crew tried to make it to Tashkent. The aircraft  crashed into a cotton field, broke in three and caught fire.                                                                                                                                                                                                               1962  7      6      1\n",
       "\\tBatagay, Russia                           Aeroflot                  \\tBatagay - \\tLazo           Antonov An-2TP                            \\t CCCP-92864  1G53-16      12.0    10.0               2.0          12.0        10.0                   2.0              0.0     Crashed into a mountainside. Icing.                                                                                                                                                                                                                                                                                                                                                                   1981  4      28     1\n",
       "Length: 3765, dtype: int64"
      ]
     },
     "execution_count": 20,
     "metadata": {},
     "output_type": "execute_result"
    }
   ],
   "source": [
    "print(data)"
   ]
  },
  {
   "cell_type": "code",
   "execution_count": null,
   "metadata": {},
   "outputs": [],
   "source": []
  }
 ],
 "metadata": {
  "kernelspec": {
   "display_name": "Python 3",
   "language": "python",
   "name": "python3"
  },
  "language_info": {
   "codemirror_mode": {
    "name": "ipython",
    "version": 3
   },
   "file_extension": ".py",
   "mimetype": "text/x-python",
   "name": "python",
   "nbconvert_exporter": "python",
   "pygments_lexer": "ipython3",
   "version": "3.8.5"
  }
 },
 "nbformat": 4,
 "nbformat_minor": 4
}
