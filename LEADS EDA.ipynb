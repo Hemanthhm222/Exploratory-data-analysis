{
 "cells": [
  {
   "cell_type": "markdown",
   "metadata": {},
   "source": [
    "### Importing Libraries"
   ]
  },
  {
   "cell_type": "code",
   "execution_count": 1,
   "metadata": {},
   "outputs": [],
   "source": [
    "import pandas as pd\n",
    "import numpy as np\n",
    "import matplotlib.pyplot as plt\n",
    "import seaborn as sns\n",
    "import warnings\n",
    "warnings.filterwarnings('ignore')"
   ]
  },
  {
   "cell_type": "markdown",
   "metadata": {},
   "source": [
    "#### Reading Dataset"
   ]
  },
  {
   "cell_type": "code",
   "execution_count": 2,
   "metadata": {},
   "outputs": [],
   "source": [
    "df = pd.read_csv(r'Leads (1).csv')"
   ]
  },
  {
   "cell_type": "code",
   "execution_count": 3,
   "metadata": {},
   "outputs": [
    {
     "data": {
      "text/plain": [
       "(9240, 37)"
      ]
     },
     "execution_count": 3,
     "metadata": {},
     "output_type": "execute_result"
    }
   ],
   "source": [
    "df.shape"
   ]
  },
  {
   "cell_type": "code",
   "execution_count": 4,
   "metadata": {
    "collapsed": true
   },
   "outputs": [
    {
     "data": {
      "text/html": [
       "<div>\n",
       "<style scoped>\n",
       "    .dataframe tbody tr th:only-of-type {\n",
       "        vertical-align: middle;\n",
       "    }\n",
       "\n",
       "    .dataframe tbody tr th {\n",
       "        vertical-align: top;\n",
       "    }\n",
       "\n",
       "    .dataframe thead th {\n",
       "        text-align: right;\n",
       "    }\n",
       "</style>\n",
       "<table border=\"1\" class=\"dataframe\">\n",
       "  <thead>\n",
       "    <tr style=\"text-align: right;\">\n",
       "      <th></th>\n",
       "      <th>Prospect ID</th>\n",
       "      <th>Lead Number</th>\n",
       "      <th>Lead Origin</th>\n",
       "      <th>Lead Source</th>\n",
       "      <th>Do Not Email</th>\n",
       "      <th>Do Not Call</th>\n",
       "      <th>Converted</th>\n",
       "      <th>TotalVisits</th>\n",
       "      <th>Total Time Spent on Website</th>\n",
       "      <th>Page Views Per Visit</th>\n",
       "      <th>Last Activity</th>\n",
       "      <th>Country</th>\n",
       "      <th>Specialization</th>\n",
       "      <th>How did you hear about X Education</th>\n",
       "      <th>What is your current occupation</th>\n",
       "      <th>What matters most to you in choosing a course</th>\n",
       "      <th>Search</th>\n",
       "      <th>Magazine</th>\n",
       "      <th>Newspaper Article</th>\n",
       "      <th>X Education Forums</th>\n",
       "      <th>Newspaper</th>\n",
       "      <th>Digital Advertisement</th>\n",
       "      <th>Through Recommendations</th>\n",
       "      <th>Receive More Updates About Our Courses</th>\n",
       "      <th>Tags</th>\n",
       "      <th>Lead Quality</th>\n",
       "      <th>Update me on Supply Chain Content</th>\n",
       "      <th>Get updates on DM Content</th>\n",
       "      <th>Lead Profile</th>\n",
       "      <th>City</th>\n",
       "      <th>Asymmetrique Activity Index</th>\n",
       "      <th>Asymmetrique Profile Index</th>\n",
       "      <th>Asymmetrique Activity Score</th>\n",
       "      <th>Asymmetrique Profile Score</th>\n",
       "      <th>I agree to pay the amount through cheque</th>\n",
       "      <th>A free copy of Mastering The Interview</th>\n",
       "      <th>Last Notable Activity</th>\n",
       "    </tr>\n",
       "  </thead>\n",
       "  <tbody>\n",
       "    <tr>\n",
       "      <th>0</th>\n",
       "      <td>7927b2df-8bba-4d29-b9a2-b6e0beafe620</td>\n",
       "      <td>660737</td>\n",
       "      <td>API</td>\n",
       "      <td>Olark Chat</td>\n",
       "      <td>No</td>\n",
       "      <td>No</td>\n",
       "      <td>0</td>\n",
       "      <td>0.0</td>\n",
       "      <td>0</td>\n",
       "      <td>0.0</td>\n",
       "      <td>Page Visited on Website</td>\n",
       "      <td>NaN</td>\n",
       "      <td>Select</td>\n",
       "      <td>Select</td>\n",
       "      <td>Unemployed</td>\n",
       "      <td>Better Career Prospects</td>\n",
       "      <td>No</td>\n",
       "      <td>No</td>\n",
       "      <td>No</td>\n",
       "      <td>No</td>\n",
       "      <td>No</td>\n",
       "      <td>No</td>\n",
       "      <td>No</td>\n",
       "      <td>No</td>\n",
       "      <td>Interested in other courses</td>\n",
       "      <td>Low in Relevance</td>\n",
       "      <td>No</td>\n",
       "      <td>No</td>\n",
       "      <td>Select</td>\n",
       "      <td>Select</td>\n",
       "      <td>02.Medium</td>\n",
       "      <td>02.Medium</td>\n",
       "      <td>15.0</td>\n",
       "      <td>15.0</td>\n",
       "      <td>No</td>\n",
       "      <td>No</td>\n",
       "      <td>Modified</td>\n",
       "    </tr>\n",
       "    <tr>\n",
       "      <th>1</th>\n",
       "      <td>2a272436-5132-4136-86fa-dcc88c88f482</td>\n",
       "      <td>660728</td>\n",
       "      <td>API</td>\n",
       "      <td>Organic Search</td>\n",
       "      <td>No</td>\n",
       "      <td>No</td>\n",
       "      <td>0</td>\n",
       "      <td>5.0</td>\n",
       "      <td>674</td>\n",
       "      <td>2.5</td>\n",
       "      <td>Email Opened</td>\n",
       "      <td>India</td>\n",
       "      <td>Select</td>\n",
       "      <td>Select</td>\n",
       "      <td>Unemployed</td>\n",
       "      <td>Better Career Prospects</td>\n",
       "      <td>No</td>\n",
       "      <td>No</td>\n",
       "      <td>No</td>\n",
       "      <td>No</td>\n",
       "      <td>No</td>\n",
       "      <td>No</td>\n",
       "      <td>No</td>\n",
       "      <td>No</td>\n",
       "      <td>Ringing</td>\n",
       "      <td>NaN</td>\n",
       "      <td>No</td>\n",
       "      <td>No</td>\n",
       "      <td>Select</td>\n",
       "      <td>Select</td>\n",
       "      <td>02.Medium</td>\n",
       "      <td>02.Medium</td>\n",
       "      <td>15.0</td>\n",
       "      <td>15.0</td>\n",
       "      <td>No</td>\n",
       "      <td>No</td>\n",
       "      <td>Email Opened</td>\n",
       "    </tr>\n",
       "    <tr>\n",
       "      <th>2</th>\n",
       "      <td>8cc8c611-a219-4f35-ad23-fdfd2656bd8a</td>\n",
       "      <td>660727</td>\n",
       "      <td>Landing Page Submission</td>\n",
       "      <td>Direct Traffic</td>\n",
       "      <td>No</td>\n",
       "      <td>No</td>\n",
       "      <td>1</td>\n",
       "      <td>2.0</td>\n",
       "      <td>1532</td>\n",
       "      <td>2.0</td>\n",
       "      <td>Email Opened</td>\n",
       "      <td>India</td>\n",
       "      <td>Business Administration</td>\n",
       "      <td>Select</td>\n",
       "      <td>Student</td>\n",
       "      <td>Better Career Prospects</td>\n",
       "      <td>No</td>\n",
       "      <td>No</td>\n",
       "      <td>No</td>\n",
       "      <td>No</td>\n",
       "      <td>No</td>\n",
       "      <td>No</td>\n",
       "      <td>No</td>\n",
       "      <td>No</td>\n",
       "      <td>Will revert after reading the email</td>\n",
       "      <td>Might be</td>\n",
       "      <td>No</td>\n",
       "      <td>No</td>\n",
       "      <td>Potential Lead</td>\n",
       "      <td>Mumbai</td>\n",
       "      <td>02.Medium</td>\n",
       "      <td>01.High</td>\n",
       "      <td>14.0</td>\n",
       "      <td>20.0</td>\n",
       "      <td>No</td>\n",
       "      <td>Yes</td>\n",
       "      <td>Email Opened</td>\n",
       "    </tr>\n",
       "    <tr>\n",
       "      <th>3</th>\n",
       "      <td>0cc2df48-7cf4-4e39-9de9-19797f9b38cc</td>\n",
       "      <td>660719</td>\n",
       "      <td>Landing Page Submission</td>\n",
       "      <td>Direct Traffic</td>\n",
       "      <td>No</td>\n",
       "      <td>No</td>\n",
       "      <td>0</td>\n",
       "      <td>1.0</td>\n",
       "      <td>305</td>\n",
       "      <td>1.0</td>\n",
       "      <td>Unreachable</td>\n",
       "      <td>India</td>\n",
       "      <td>Media and Advertising</td>\n",
       "      <td>Word Of Mouth</td>\n",
       "      <td>Unemployed</td>\n",
       "      <td>Better Career Prospects</td>\n",
       "      <td>No</td>\n",
       "      <td>No</td>\n",
       "      <td>No</td>\n",
       "      <td>No</td>\n",
       "      <td>No</td>\n",
       "      <td>No</td>\n",
       "      <td>No</td>\n",
       "      <td>No</td>\n",
       "      <td>Ringing</td>\n",
       "      <td>Not Sure</td>\n",
       "      <td>No</td>\n",
       "      <td>No</td>\n",
       "      <td>Select</td>\n",
       "      <td>Mumbai</td>\n",
       "      <td>02.Medium</td>\n",
       "      <td>01.High</td>\n",
       "      <td>13.0</td>\n",
       "      <td>17.0</td>\n",
       "      <td>No</td>\n",
       "      <td>No</td>\n",
       "      <td>Modified</td>\n",
       "    </tr>\n",
       "    <tr>\n",
       "      <th>4</th>\n",
       "      <td>3256f628-e534-4826-9d63-4a8b88782852</td>\n",
       "      <td>660681</td>\n",
       "      <td>Landing Page Submission</td>\n",
       "      <td>Google</td>\n",
       "      <td>No</td>\n",
       "      <td>No</td>\n",
       "      <td>1</td>\n",
       "      <td>2.0</td>\n",
       "      <td>1428</td>\n",
       "      <td>1.0</td>\n",
       "      <td>Converted to Lead</td>\n",
       "      <td>India</td>\n",
       "      <td>Select</td>\n",
       "      <td>Other</td>\n",
       "      <td>Unemployed</td>\n",
       "      <td>Better Career Prospects</td>\n",
       "      <td>No</td>\n",
       "      <td>No</td>\n",
       "      <td>No</td>\n",
       "      <td>No</td>\n",
       "      <td>No</td>\n",
       "      <td>No</td>\n",
       "      <td>No</td>\n",
       "      <td>No</td>\n",
       "      <td>Will revert after reading the email</td>\n",
       "      <td>Might be</td>\n",
       "      <td>No</td>\n",
       "      <td>No</td>\n",
       "      <td>Select</td>\n",
       "      <td>Mumbai</td>\n",
       "      <td>02.Medium</td>\n",
       "      <td>01.High</td>\n",
       "      <td>15.0</td>\n",
       "      <td>18.0</td>\n",
       "      <td>No</td>\n",
       "      <td>No</td>\n",
       "      <td>Modified</td>\n",
       "    </tr>\n",
       "  </tbody>\n",
       "</table>\n",
       "</div>"
      ],
      "text/plain": [
       "                            Prospect ID  Lead Number              Lead Origin  \\\n",
       "0  7927b2df-8bba-4d29-b9a2-b6e0beafe620       660737                      API   \n",
       "1  2a272436-5132-4136-86fa-dcc88c88f482       660728                      API   \n",
       "2  8cc8c611-a219-4f35-ad23-fdfd2656bd8a       660727  Landing Page Submission   \n",
       "3  0cc2df48-7cf4-4e39-9de9-19797f9b38cc       660719  Landing Page Submission   \n",
       "4  3256f628-e534-4826-9d63-4a8b88782852       660681  Landing Page Submission   \n",
       "\n",
       "      Lead Source Do Not Email Do Not Call  Converted  TotalVisits  \\\n",
       "0      Olark Chat           No          No          0          0.0   \n",
       "1  Organic Search           No          No          0          5.0   \n",
       "2  Direct Traffic           No          No          1          2.0   \n",
       "3  Direct Traffic           No          No          0          1.0   \n",
       "4          Google           No          No          1          2.0   \n",
       "\n",
       "   Total Time Spent on Website  Page Views Per Visit            Last Activity  \\\n",
       "0                            0                   0.0  Page Visited on Website   \n",
       "1                          674                   2.5             Email Opened   \n",
       "2                         1532                   2.0             Email Opened   \n",
       "3                          305                   1.0              Unreachable   \n",
       "4                         1428                   1.0        Converted to Lead   \n",
       "\n",
       "  Country           Specialization How did you hear about X Education  \\\n",
       "0     NaN                   Select                             Select   \n",
       "1   India                   Select                             Select   \n",
       "2   India  Business Administration                             Select   \n",
       "3   India    Media and Advertising                      Word Of Mouth   \n",
       "4   India                   Select                              Other   \n",
       "\n",
       "  What is your current occupation  \\\n",
       "0                      Unemployed   \n",
       "1                      Unemployed   \n",
       "2                         Student   \n",
       "3                      Unemployed   \n",
       "4                      Unemployed   \n",
       "\n",
       "  What matters most to you in choosing a course Search Magazine  \\\n",
       "0                       Better Career Prospects     No       No   \n",
       "1                       Better Career Prospects     No       No   \n",
       "2                       Better Career Prospects     No       No   \n",
       "3                       Better Career Prospects     No       No   \n",
       "4                       Better Career Prospects     No       No   \n",
       "\n",
       "  Newspaper Article X Education Forums Newspaper Digital Advertisement  \\\n",
       "0                No                 No        No                    No   \n",
       "1                No                 No        No                    No   \n",
       "2                No                 No        No                    No   \n",
       "3                No                 No        No                    No   \n",
       "4                No                 No        No                    No   \n",
       "\n",
       "  Through Recommendations Receive More Updates About Our Courses  \\\n",
       "0                      No                                     No   \n",
       "1                      No                                     No   \n",
       "2                      No                                     No   \n",
       "3                      No                                     No   \n",
       "4                      No                                     No   \n",
       "\n",
       "                                  Tags      Lead Quality  \\\n",
       "0          Interested in other courses  Low in Relevance   \n",
       "1                              Ringing               NaN   \n",
       "2  Will revert after reading the email          Might be   \n",
       "3                              Ringing          Not Sure   \n",
       "4  Will revert after reading the email          Might be   \n",
       "\n",
       "  Update me on Supply Chain Content Get updates on DM Content    Lead Profile  \\\n",
       "0                                No                        No          Select   \n",
       "1                                No                        No          Select   \n",
       "2                                No                        No  Potential Lead   \n",
       "3                                No                        No          Select   \n",
       "4                                No                        No          Select   \n",
       "\n",
       "     City Asymmetrique Activity Index Asymmetrique Profile Index  \\\n",
       "0  Select                   02.Medium                  02.Medium   \n",
       "1  Select                   02.Medium                  02.Medium   \n",
       "2  Mumbai                   02.Medium                    01.High   \n",
       "3  Mumbai                   02.Medium                    01.High   \n",
       "4  Mumbai                   02.Medium                    01.High   \n",
       "\n",
       "   Asymmetrique Activity Score  Asymmetrique Profile Score  \\\n",
       "0                         15.0                        15.0   \n",
       "1                         15.0                        15.0   \n",
       "2                         14.0                        20.0   \n",
       "3                         13.0                        17.0   \n",
       "4                         15.0                        18.0   \n",
       "\n",
       "  I agree to pay the amount through cheque  \\\n",
       "0                                       No   \n",
       "1                                       No   \n",
       "2                                       No   \n",
       "3                                       No   \n",
       "4                                       No   \n",
       "\n",
       "  A free copy of Mastering The Interview Last Notable Activity  \n",
       "0                                     No              Modified  \n",
       "1                                     No          Email Opened  \n",
       "2                                    Yes          Email Opened  \n",
       "3                                     No              Modified  \n",
       "4                                     No              Modified  "
      ]
     },
     "execution_count": 4,
     "metadata": {},
     "output_type": "execute_result"
    }
   ],
   "source": [
    "pd.set_option('display.max_columns',None)\n",
    "df.head()"
   ]
  },
  {
   "cell_type": "code",
   "execution_count": 5,
   "metadata": {},
   "outputs": [
    {
     "name": "stdout",
     "output_type": "stream",
     "text": [
      "Features dropped based on number of unique values : \n",
      "Prospect ID\n",
      "Lead Number\n"
     ]
    }
   ],
   "source": [
    "# dropping unecessary columns\n",
    "print('Features dropped based on number of unique values : ')\n",
    "for feature in df.columns:\n",
    "    if df[feature].nunique() == len(df[feature]):\n",
    "        print(feature)\n",
    "        df.drop(feature,axis=True,inplace=True)"
   ]
  },
  {
   "cell_type": "markdown",
   "metadata": {},
   "source": [
    "#### Checking for null values"
   ]
  },
  {
   "cell_type": "code",
   "execution_count": 6,
   "metadata": {},
   "outputs": [
    {
     "data": {
      "text/plain": [
       "Lead Origin                                       0.000000\n",
       "Lead Source                                       0.389610\n",
       "Do Not Email                                      0.000000\n",
       "Do Not Call                                       0.000000\n",
       "Converted                                         0.000000\n",
       "TotalVisits                                       1.482684\n",
       "Total Time Spent on Website                       0.000000\n",
       "Page Views Per Visit                              1.482684\n",
       "Last Activity                                     1.114719\n",
       "Country                                          26.634199\n",
       "Specialization                                   15.562771\n",
       "How did you hear about X Education               23.885281\n",
       "What is your current occupation                  29.112554\n",
       "What matters most to you in choosing a course    29.318182\n",
       "Search                                            0.000000\n",
       "Magazine                                          0.000000\n",
       "Newspaper Article                                 0.000000\n",
       "X Education Forums                                0.000000\n",
       "Newspaper                                         0.000000\n",
       "Digital Advertisement                             0.000000\n",
       "Through Recommendations                           0.000000\n",
       "Receive More Updates About Our Courses            0.000000\n",
       "Tags                                             36.287879\n",
       "Lead Quality                                     51.590909\n",
       "Update me on Supply Chain Content                 0.000000\n",
       "Get updates on DM Content                         0.000000\n",
       "Lead Profile                                     29.318182\n",
       "City                                             15.367965\n",
       "Asymmetrique Activity Index                      45.649351\n",
       "Asymmetrique Profile Index                       45.649351\n",
       "Asymmetrique Activity Score                      45.649351\n",
       "Asymmetrique Profile Score                       45.649351\n",
       "I agree to pay the amount through cheque          0.000000\n",
       "A free copy of Mastering The Interview            0.000000\n",
       "Last Notable Activity                             0.000000\n",
       "dtype: float64"
      ]
     },
     "execution_count": 6,
     "metadata": {},
     "output_type": "execute_result"
    }
   ],
   "source": [
    "df.isnull().mean()*100"
   ]
  },
  {
   "cell_type": "code",
   "execution_count": 9,
   "metadata": {
    "collapsed": true
   },
   "outputs": [
    {
     "data": {
      "text/plain": [
       "Might be             1560\n",
       "Not Sure             1092\n",
       "High in Relevance     637\n",
       "Worst                 601\n",
       "Low in Relevance      583\n",
       "Name: Lead Quality, dtype: int64"
      ]
     },
     "execution_count": 9,
     "metadata": {},
     "output_type": "execute_result"
    }
   ],
   "source": [
    "df['Lead Quality'].value_counts()"
   ]
  },
  {
   "cell_type": "code",
   "execution_count": 18,
   "metadata": {},
   "outputs": [
    {
     "data": {
      "text/plain": [
       "24.413145539906104"
      ]
     },
     "execution_count": 18,
     "metadata": {},
     "output_type": "execute_result"
    }
   ],
   "source": [
    "df['Lead Quality'].value_counts()[1] / sum(df['Lead Quality'].value_counts()) *100"
   ]
  },
  {
   "cell_type": "markdown",
   "metadata": {},
   "source": [
    "Since there are more than 50% nan values in lead quality and 24% people are not sure of the quality of website so will drop the column"
   ]
  },
  {
   "cell_type": "code",
   "execution_count": 20,
   "metadata": {},
   "outputs": [],
   "source": [
    "null_cols=[]\n",
    "for i in df.columns:\n",
    "    if df[i].isnull().mean()*100 > 50:\n",
    "        df.drop(i,inplace=True,axis=1)\n",
    "    elif df[i].isnull().mean()*100 > 0:\n",
    "        null_cols.append(i)\n",
    "    else:\n",
    "        pass"
   ]
  },
  {
   "cell_type": "code",
   "execution_count": 29,
   "metadata": {
    "collapsed": true
   },
   "outputs": [
    {
     "name": "stdout",
     "output_type": "stream",
     "text": [
      "Google               2868\n",
      "Direct Traffic       2543\n",
      "Olark Chat           1755\n",
      "Organic Search       1154\n",
      "Reference             534\n",
      "Welingak Website      142\n",
      "Referral Sites        125\n",
      "Facebook               55\n",
      "bing                    6\n",
      "google                  5\n",
      "Click2call              4\n",
      "Live Chat               2\n",
      "Social Media            2\n",
      "Press_Release           2\n",
      "blog                    1\n",
      "youtubechannel          1\n",
      "WeLearn                 1\n",
      "testone                 1\n",
      "NC_EDM                  1\n",
      "Pay per Click Ads       1\n",
      "welearnblog_Home        1\n",
      "Name: Lead Source, dtype: int64\n",
      "=====================================\n"
     ]
    },
    {
     "data": {
      "image/png": "[encoded data removed]",
      "text/plain": [
       "<Figure size 432x288 with 1 Axes>"
      ]
     },
     "metadata": {
      "needs_background": "light"
     },
     "output_type": "display_data"
    },
    {
     "name": "stdout",
     "output_type": "stream",
     "text": [
      "=====================================\n"
     ]
    },
    {
     "data": {
      "image/png": "[encoded data removed]",
      "text/plain": [
       "<Figure size 432x288 with 1 Axes>"
      ]
     },
     "metadata": {
      "needs_background": "light"
     },
     "output_type": "display_data"
    },
    {
     "name": "stdout",
     "output_type": "stream",
     "text": [
      "=====================================\n",
      "Email Opened                    3437\n",
      "SMS Sent                        2745\n",
      "Olark Chat Conversation          973\n",
      "Page Visited on Website          640\n",
      "Converted to Lead                428\n",
      "Email Bounced                    326\n",
      "Email Link Clicked               267\n",
      "Form Submitted on Website        116\n",
      "Unreachable                       93\n",
      "Unsubscribed                      61\n",
      "Had a Phone Conversation          30\n",
      "Approached upfront                 9\n",
      "View in browser link Clicked       6\n",
      "Email Received                     2\n",
      "Email Marked Spam                  2\n",
      "Visited Booth in Tradeshow         1\n",
      "Resubscribed to emails             1\n",
      "Name: Last Activity, dtype: int64\n",
      "=====================================\n",
      "India                   6492\n",
      "United States             69\n",
      "United Arab Emirates      53\n",
      "Singapore                 24\n",
      "Saudi Arabia              21\n",
      "United Kingdom            15\n",
      "Australia                 13\n",
      "Qatar                     10\n",
      "Bahrain                    7\n",
      "Hong Kong                  7\n",
      "France                     6\n",
      "Oman                       6\n",
      "unknown                    5\n",
      "Germany                    4\n",
      "South Africa               4\n",
      "Kuwait                     4\n",
      "Nigeria                    4\n",
      "Canada                     4\n",
      "Sweden                     3\n",
      "Asia/Pacific Region        2\n",
      "Ghana                      2\n",
      "Uganda                     2\n",
      "Belgium                    2\n",
      "China                      2\n",
      "Italy                      2\n",
      "Bangladesh                 2\n",
      "Philippines                2\n",
      "Netherlands                2\n",
      "Tanzania                   1\n",
      "Sri Lanka                  1\n",
      "Russia                     1\n",
      "Liberia                    1\n",
      "Switzerland                1\n",
      "Denmark                    1\n",
      "Malaysia                   1\n",
      "Indonesia                  1\n",
      "Kenya                      1\n",
      "Vietnam                    1\n",
      "Name: Country, dtype: int64\n",
      "=====================================\n",
      "Select                               1942\n",
      "Finance Management                    976\n",
      "Human Resource Management             848\n",
      "Marketing Management                  838\n",
      "Operations Management                 503\n",
      "Business Administration               403\n",
      "IT Projects Management                366\n",
      "Supply Chain Management               349\n",
      "Banking, Investment And Insurance     338\n",
      "Media and Advertising                 203\n",
      "Travel and Tourism                    203\n",
      "International Business                178\n",
      "Healthcare Management                 159\n",
      "Hospitality Management                114\n",
      "E-COMMERCE                            112\n",
      "Retail Management                     100\n",
      "Rural and Agribusiness                 73\n",
      "E-Business                             57\n",
      "Services Excellence                    40\n",
      "Name: Specialization, dtype: int64\n",
      "=====================================\n",
      "Select                   5043\n",
      "Online Search             808\n",
      "Word Of Mouth             348\n",
      "Student of SomeSchool     310\n",
      "Other                     186\n",
      "Multiple Sources          152\n",
      "Advertisements             70\n",
      "Social Media               67\n",
      "Email                      26\n",
      "SMS                        23\n",
      "Name: How did you hear about X Education, dtype: int64\n",
      "=====================================\n",
      "Unemployed              5600\n",
      "Working Professional     706\n",
      "Student                  210\n",
      "Other                     16\n",
      "Housewife                 10\n",
      "Businessman                8\n",
      "Name: What is your current occupation, dtype: int64\n",
      "=====================================\n",
      "Better Career Prospects      6528\n",
      "Flexibility & Convenience       2\n",
      "Other                           1\n",
      "Name: What matters most to you in choosing a course, dtype: int64\n",
      "=====================================\n",
      "Will revert after reading the email                  2072\n",
      "Ringing                                              1203\n",
      "Interested in other courses                           513\n",
      "Already a student                                     465\n",
      "Closed by Horizzon                                    358\n",
      "switched off                                          240\n",
      "Busy                                                  186\n",
      "Lost to EINS                                          175\n",
      "Not doing further education                           145\n",
      "Interested  in full time MBA                          117\n",
      "Graduation in progress                                111\n",
      "invalid number                                         83\n",
      "Diploma holder (Not Eligible)                          63\n",
      "wrong number given                                     47\n",
      "opp hangup                                             33\n",
      "number not provided                                    27\n",
      "in touch with EINS                                     12\n",
      "Lost to Others                                          7\n",
      "Want to take admission but has financial problems       6\n",
      "Still Thinking                                          6\n",
      "Interested in Next batch                                5\n",
      "In confusion whether part time or DLP                   5\n",
      "Lateral student                                         3\n",
      "Shall take in the next coming month                     2\n",
      "University not recognized                               2\n",
      "Recognition issue (DEC approval)                        1\n",
      "Name: Tags, dtype: int64\n",
      "=====================================\n",
      "Select                         4146\n",
      "Potential Lead                 1613\n",
      "Other Leads                     487\n",
      "Student of SomeSchool           241\n",
      "Lateral Student                  24\n",
      "Dual Specialization Student      20\n",
      "Name: Lead Profile, dtype: int64\n",
      "=====================================\n",
      "Mumbai                         3222\n",
      "Select                         2249\n",
      "Thane & Outskirts               752\n",
      "Other Cities                    686\n",
      "Other Cities of Maharashtra     457\n",
      "Other Metro Cities              380\n",
      "Tier II Cities                   74\n",
      "Name: City, dtype: int64\n",
      "=====================================\n",
      "02.Medium    3839\n",
      "01.High       821\n",
      "03.Low        362\n",
      "Name: Asymmetrique Activity Index, dtype: int64\n",
      "=====================================\n",
      "02.Medium    2788\n",
      "01.High      2203\n",
      "03.Low         31\n",
      "Name: Asymmetrique Profile Index, dtype: int64\n",
      "=====================================\n"
     ]
    },
    {
     "data": {
      "image/png": "[encoded data removed]",
      "text/plain": [
       "<Figure size 432x288 with 1 Axes>"
      ]
     },
     "metadata": {
      "needs_background": "light"
     },
     "output_type": "display_data"
    },
    {
     "name": "stdout",
     "output_type": "stream",
     "text": [
      "=====================================\n"
     ]
    },
    {
     "data": {
      "image/png": "[encoded data removed]",
      "text/plain": [
       "<Figure size 432x288 with 1 Axes>"
      ]
     },
     "metadata": {
      "needs_background": "light"
     },
     "output_type": "display_data"
    },
    {
     "name": "stdout",
     "output_type": "stream",
     "text": [
      "=====================================\n"
     ]
    }
   ],
   "source": [
    "for feature in null_cols:\n",
    "    if df[feature].dtype == 'O':\n",
    "        print(df[feature].value_counts())\n",
    "        print('=====================================')\n",
    "    else:\n",
    "        #plt.xlim(50)\n",
    "        sns.distplot(df[feature])\n",
    "        plt.show()\n",
    "        print('=====================================')"
   ]
  },
  {
   "cell_type": "markdown",
   "metadata": {},
   "source": [
    "#### Null values imputation"
   ]
  },
  {
   "cell_type": "code",
   "execution_count": 36,
   "metadata": {},
   "outputs": [],
   "source": [
    "for feature in null_cols:\n",
    "    if df[feature].dtype == 'O':\n",
    "        df[feature].fillna(df[feature].mode()[0],inplace=True)\n",
    "    else:\n",
    "        df[feature].fillna(df[feature].mean(),inplace=True)"
   ]
  },
  {
   "cell_type": "code",
   "execution_count": 39,
   "metadata": {
    "collapsed": true
   },
   "outputs": [
    {
     "name": "stdout",
     "output_type": "stream",
     "text": [
      "Google               2904\n",
      "Direct Traffic       2543\n",
      "Olark Chat           1755\n",
      "Organic Search       1154\n",
      "Reference             534\n",
      "Welingak Website      142\n",
      "Referral Sites        125\n",
      "Facebook               55\n",
      "bing                    6\n",
      "google                  5\n",
      "Click2call              4\n",
      "Live Chat               2\n",
      "Social Media            2\n",
      "Press_Release           2\n",
      "blog                    1\n",
      "youtubechannel          1\n",
      "WeLearn                 1\n",
      "testone                 1\n",
      "NC_EDM                  1\n",
      "Pay per Click Ads       1\n",
      "welearnblog_Home        1\n",
      "Name: Lead Source, dtype: int64\n",
      "=====================================\n"
     ]
    },
    {
     "data": {
      "image/png": "[encoded data removed]",
      "text/plain": [
       "<Figure size 432x288 with 1 Axes>"
      ]
     },
     "metadata": {
      "needs_background": "light"
     },
     "output_type": "display_data"
    },
    {
     "name": "stdout",
     "output_type": "stream",
     "text": [
      "=====================================\n"
     ]
    },
    {
     "data": {
      "image/png": "[encoded data removed]",
      "text/plain": [
       "<Figure size 432x288 with 1 Axes>"
      ]
     },
     "metadata": {
      "needs_background": "light"
     },
     "output_type": "display_data"
    },
    {
     "name": "stdout",
     "output_type": "stream",
     "text": [
      "=====================================\n",
      "Email Opened                    3540\n",
      "SMS Sent                        2745\n",
      "Olark Chat Conversation          973\n",
      "Page Visited on Website          640\n",
      "Converted to Lead                428\n",
      "Email Bounced                    326\n",
      "Email Link Clicked               267\n",
      "Form Submitted on Website        116\n",
      "Unreachable                       93\n",
      "Unsubscribed                      61\n",
      "Had a Phone Conversation          30\n",
      "Approached upfront                 9\n",
      "View in browser link Clicked       6\n",
      "Email Received                     2\n",
      "Email Marked Spam                  2\n",
      "Visited Booth in Tradeshow         1\n",
      "Resubscribed to emails             1\n",
      "Name: Last Activity, dtype: int64\n",
      "=====================================\n",
      "India                   8953\n",
      "United States             69\n",
      "United Arab Emirates      53\n",
      "Singapore                 24\n",
      "Saudi Arabia              21\n",
      "United Kingdom            15\n",
      "Australia                 13\n",
      "Qatar                     10\n",
      "Bahrain                    7\n",
      "Hong Kong                  7\n",
      "France                     6\n",
      "Oman                       6\n",
      "unknown                    5\n",
      "Germany                    4\n",
      "South Africa               4\n",
      "Kuwait                     4\n",
      "Nigeria                    4\n",
      "Canada                     4\n",
      "Sweden                     3\n",
      "Asia/Pacific Region        2\n",
      "Ghana                      2\n",
      "Uganda                     2\n",
      "Belgium                    2\n",
      "China                      2\n",
      "Italy                      2\n",
      "Bangladesh                 2\n",
      "Philippines                2\n",
      "Netherlands                2\n",
      "Tanzania                   1\n",
      "Sri Lanka                  1\n",
      "Russia                     1\n",
      "Liberia                    1\n",
      "Switzerland                1\n",
      "Denmark                    1\n",
      "Malaysia                   1\n",
      "Indonesia                  1\n",
      "Kenya                      1\n",
      "Vietnam                    1\n",
      "Name: Country, dtype: int64\n",
      "=====================================\n",
      "Select                               3380\n",
      "Finance Management                    976\n",
      "Human Resource Management             848\n",
      "Marketing Management                  838\n",
      "Operations Management                 503\n",
      "Business Administration               403\n",
      "IT Projects Management                366\n",
      "Supply Chain Management               349\n",
      "Banking, Investment And Insurance     338\n",
      "Media and Advertising                 203\n",
      "Travel and Tourism                    203\n",
      "International Business                178\n",
      "Healthcare Management                 159\n",
      "Hospitality Management                114\n",
      "E-COMMERCE                            112\n",
      "Retail Management                     100\n",
      "Rural and Agribusiness                 73\n",
      "E-Business                             57\n",
      "Services Excellence                    40\n",
      "Name: Specialization, dtype: int64\n",
      "=====================================\n",
      "Select                   7250\n",
      "Online Search             808\n",
      "Word Of Mouth             348\n",
      "Student of SomeSchool     310\n",
      "Other                     186\n",
      "Multiple Sources          152\n",
      "Advertisements             70\n",
      "Social Media               67\n",
      "Email                      26\n",
      "SMS                        23\n",
      "Name: How did you hear about X Education, dtype: int64\n",
      "=====================================\n",
      "Unemployed              8290\n",
      "Working Professional     706\n",
      "Student                  210\n",
      "Other                     16\n",
      "Housewife                 10\n",
      "Businessman                8\n",
      "Name: What is your current occupation, dtype: int64\n",
      "=====================================\n",
      "Better Career Prospects      9237\n",
      "Flexibility & Convenience       2\n",
      "Other                           1\n",
      "Name: What matters most to you in choosing a course, dtype: int64\n",
      "=====================================\n",
      "Will revert after reading the email                  5425\n",
      "Ringing                                              1203\n",
      "Interested in other courses                           513\n",
      "Already a student                                     465\n",
      "Closed by Horizzon                                    358\n",
      "switched off                                          240\n",
      "Busy                                                  186\n",
      "Lost to EINS                                          175\n",
      "Not doing further education                           145\n",
      "Interested  in full time MBA                          117\n",
      "Graduation in progress                                111\n",
      "invalid number                                         83\n",
      "Diploma holder (Not Eligible)                          63\n",
      "wrong number given                                     47\n",
      "opp hangup                                             33\n",
      "number not provided                                    27\n",
      "in touch with EINS                                     12\n",
      "Lost to Others                                          7\n",
      "Want to take admission but has financial problems       6\n",
      "Still Thinking                                          6\n",
      "Interested in Next batch                                5\n",
      "In confusion whether part time or DLP                   5\n",
      "Lateral student                                         3\n",
      "Shall take in the next coming month                     2\n",
      "University not recognized                               2\n",
      "Recognition issue (DEC approval)                        1\n",
      "Name: Tags, dtype: int64\n",
      "=====================================\n",
      "Select                         6855\n",
      "Potential Lead                 1613\n",
      "Other Leads                     487\n",
      "Student of SomeSchool           241\n",
      "Lateral Student                  24\n",
      "Dual Specialization Student      20\n",
      "Name: Lead Profile, dtype: int64\n",
      "=====================================\n",
      "Mumbai                         4642\n",
      "Select                         2249\n",
      "Thane & Outskirts               752\n",
      "Other Cities                    686\n",
      "Other Cities of Maharashtra     457\n",
      "Other Metro Cities              380\n",
      "Tier II Cities                   74\n",
      "Name: City, dtype: int64\n",
      "=====================================\n",
      "02.Medium    8057\n",
      "01.High       821\n",
      "03.Low        362\n",
      "Name: Asymmetrique Activity Index, dtype: int64\n",
      "=====================================\n",
      "02.Medium    7006\n",
      "01.High      2203\n",
      "03.Low         31\n",
      "Name: Asymmetrique Profile Index, dtype: int64\n",
      "=====================================\n"
     ]
    },
    {
     "data": {
      "image/png": "[encoded data removed]",
      "text/plain": [
       "<Figure size 432x288 with 1 Axes>"
      ]
     },
     "metadata": {
      "needs_background": "light"
     },
     "output_type": "display_data"
    },
    {
     "name": "stdout",
     "output_type": "stream",
     "text": [
      "=====================================\n"
     ]
    },
    {
     "data": {
      "image/png": "[encoded data removed]",
      "text/plain": [
       "<Figure size 432x288 with 1 Axes>"
      ]
     },
     "metadata": {
      "needs_background": "light"
     },
     "output_type": "display_data"
    },
    {
     "name": "stdout",
     "output_type": "stream",
     "text": [
      "=====================================\n"
     ]
    }
   ],
   "source": [
    "for feature in null_cols:\n",
    "    if df[feature].dtype == 'O':\n",
    "        print(df[feature].value_counts())\n",
    "        print('=====================================')\n",
    "    else:\n",
    "        #plt.xlim(50)\n",
    "        sns.distplot(df[feature])\n",
    "        plt.show()\n",
    "        print('=====================================')"
   ]
  },
  {
   "cell_type": "code",
   "execution_count": null,
   "metadata": {},
   "outputs": [],
   "source": []
  }
 ],
 "metadata": {
  "kernelspec": {
   "display_name": "Python 3",
   "language": "python",
   "name": "python3"
  },
  "language_info": {
   "codemirror_mode": {
    "name": "ipython",
    "version": 3
   },
   "file_extension": ".py",
   "mimetype": "text/x-python",
   "name": "python",
   "nbconvert_exporter": "python",
   "pygments_lexer": "ipython3",
   "version": "3.8.5"
  }
 },
 "nbformat": 4,
 "nbformat_minor": 4
}
